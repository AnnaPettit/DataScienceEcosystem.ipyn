{
 "cells": [
  {
   "cell_type": "markdown",
   "id": "68f39ab4-fa6e-4beb-88af-1c24609fb8bb",
   "metadata": {},
   "source": [
    "# Data Science Tools and Ecosystem\n"
   ]
  },
  {
   "cell_type": "markdown",
   "id": "a8a165be-0a1f-459e-8b5c-433ef5f0e233",
   "metadata": {
    "tags": []
   },
   "source": [
    "In this notebook, Data Science Tools and Ecosystem are summarised. \n"
   ]
  },
  {
   "cell_type": "markdown",
   "id": "52211009-8bee-4eb1-87a0-3867123d8900",
   "metadata": {},
   "source": [
    "**Objectives:**\n",
    "- Popular Data Scientist languages\n",
    "- Popular Data Scientist libraries\n",
    "- Arithmetic expressions involving multiplication and addition\n",
    "- Arithmetic expressions involving division and conversion"
   ]
  },
  {
   "cell_type": "markdown",
   "id": "4286e591-a3cf-4d03-b477-45b992e096b5",
   "metadata": {},
   "source": [
    "Some of the popular languages that Data Scientists use are:\n",
    "1. R\n",
    "2. SQL\n",
    "3. Python\n",
    "4. Java"
   ]
  },
  {
   "cell_type": "markdown",
   "id": "a6a5edf1-493b-430f-891d-cf461cf33fd4",
   "metadata": {},
   "source": [
    "Some of the commonly used libraries by Data Scientists include:\n",
    "1. Pandas\n",
    "2. NumPy\n",
    "3. SciPy\n",
    "4. Scrapy"
   ]
  },
  {
   "cell_type": "markdown",
   "id": "223f86af-a606-4d96-8c02-d488f8a25880",
   "metadata": {},
   "source": [
    "| Data Science Tools |\n",
    "|--------------------|\n",
    "|RStudio|\n",
    "|Apache Spark|\n",
    "|TensorFlow|\n"
   ]
  },
  {
   "cell_type": "markdown",
   "id": "84d24a99-a3dd-42c0-997c-927cfe1161fb",
   "metadata": {},
   "source": [
    "### Below are a few examples of evaluating arithmetic expressions in Python:"
   ]
  },
  {
   "cell_type": "markdown",
   "id": "8638ca2c-a52c-486a-8efd-8007d26944a2",
   "metadata": {},
   "source": [
    "This is a simple arithmetic expression to mulitply, then add integers."
   ]
  },
  {
   "cell_type": "code",
   "execution_count": 2,
   "id": "36fc0627-8df7-49ba-bc57-2565783bd41b",
   "metadata": {
    "tags": []
   },
   "outputs": [
    {
     "data": {
      "text/plain": [
       "17"
      ]
     },
     "execution_count": 2,
     "metadata": {},
     "output_type": "execute_result"
    }
   ],
   "source": [
    "(3*4)+5"
   ]
  },
  {
   "cell_type": "markdown",
   "id": "76e04ada-2019-4698-bc62-5fb133931fa8",
   "metadata": {},
   "source": [
    "This will convert 200 minutes into hours by dividing by 60:"
   ]
  },
  {
   "cell_type": "code",
   "execution_count": 3,
   "id": "4e0cf289-d96e-45ae-9dec-31757bba07ca",
   "metadata": {
    "tags": []
   },
   "outputs": [
    {
     "data": {
      "text/plain": [
       "3.3333333333333335"
      ]
     },
     "execution_count": 3,
     "metadata": {},
     "output_type": "execute_result"
    }
   ],
   "source": [
    "200/60"
   ]
  },
  {
   "cell_type": "markdown",
   "id": "1de14050-f43f-4014-b58d-234f84b63e9d",
   "metadata": {},
   "source": [
    "##  Author:\n",
    "Anna "
   ]
  },
  {
   "cell_type": "code",
   "execution_count": null,
   "id": "60aa146a-e3d0-4898-a1bc-8d650f4c8096",
   "metadata": {},
   "outputs": [],
   "source": []
  }
 ],
 "metadata": {
  "kernelspec": {
   "display_name": "Python",
   "language": "python",
   "name": "conda-env-python-py"
  },
  "language_info": {
   "codemirror_mode": {
    "name": "ipython",
    "version": 3
   },
   "file_extension": ".py",
   "mimetype": "text/x-python",
   "name": "python",
   "nbconvert_exporter": "python",
   "pygments_lexer": "ipython3",
   "version": "3.7.12"
  }
 },
 "nbformat": 4,
 "nbformat_minor": 5
}
